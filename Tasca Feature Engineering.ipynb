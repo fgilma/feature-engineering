{
 "cells": [
  {
   "cell_type": "markdown",
   "metadata": {},
   "source": [
    "# Nivell 1\n",
    "#### Exercici 1\n",
    "Agafa un conjunt de dades de tema esportiu que t'agradi i normalitza els atributs categòrics en dummy. Normalitza els atributs numèrics amb StandardScaler."
   ]
  },
  {
   "cell_type": "code",
   "execution_count": 32,
   "metadata": {},
   "outputs": [],
   "source": [
    "import pandas as pd\n",
    "import numpy as np\n",
    "import matplotlib.pyplot as plt\n",
    "%matplotlib inline"
   ]
  },
  {
   "cell_type": "code",
   "execution_count": 2,
   "metadata": {},
   "outputs": [
    {
     "data": {
      "text/html": [
       "<div>\n",
       "<style scoped>\n",
       "    .dataframe tbody tr th:only-of-type {\n",
       "        vertical-align: middle;\n",
       "    }\n",
       "\n",
       "    .dataframe tbody tr th {\n",
       "        vertical-align: top;\n",
       "    }\n",
       "\n",
       "    .dataframe thead th {\n",
       "        text-align: right;\n",
       "    }\n",
       "</style>\n",
       "<table border=\"1\" class=\"dataframe\">\n",
       "  <thead>\n",
       "    <tr style=\"text-align: right;\">\n",
       "      <th></th>\n",
       "      <th>FTHG</th>\n",
       "      <th>FTAG</th>\n",
       "      <th>FTR</th>\n",
       "      <th>HTHG</th>\n",
       "      <th>HTAG</th>\n",
       "      <th>HTR</th>\n",
       "      <th>HS</th>\n",
       "      <th>AS</th>\n",
       "      <th>HST</th>\n",
       "      <th>AST</th>\n",
       "      <th>HF</th>\n",
       "      <th>AF</th>\n",
       "      <th>HC</th>\n",
       "      <th>AC</th>\n",
       "      <th>HY</th>\n",
       "      <th>AY</th>\n",
       "      <th>HR</th>\n",
       "      <th>AR</th>\n",
       "    </tr>\n",
       "  </thead>\n",
       "  <tbody>\n",
       "    <tr>\n",
       "      <td>0</td>\n",
       "      <td>0</td>\n",
       "      <td>0</td>\n",
       "      <td>D</td>\n",
       "      <td>0</td>\n",
       "      <td>0</td>\n",
       "      <td>D</td>\n",
       "      <td>8</td>\n",
       "      <td>6</td>\n",
       "      <td>1</td>\n",
       "      <td>3</td>\n",
       "      <td>17</td>\n",
       "      <td>13</td>\n",
       "      <td>3</td>\n",
       "      <td>3</td>\n",
       "      <td>4</td>\n",
       "      <td>4</td>\n",
       "      <td>1</td>\n",
       "      <td>0</td>\n",
       "    </tr>\n",
       "    <tr>\n",
       "      <td>1</td>\n",
       "      <td>2</td>\n",
       "      <td>0</td>\n",
       "      <td>H</td>\n",
       "      <td>0</td>\n",
       "      <td>0</td>\n",
       "      <td>D</td>\n",
       "      <td>4</td>\n",
       "      <td>9</td>\n",
       "      <td>2</td>\n",
       "      <td>2</td>\n",
       "      <td>8</td>\n",
       "      <td>10</td>\n",
       "      <td>1</td>\n",
       "      <td>2</td>\n",
       "      <td>3</td>\n",
       "      <td>4</td>\n",
       "      <td>0</td>\n",
       "      <td>0</td>\n",
       "    </tr>\n",
       "    <tr>\n",
       "      <td>2</td>\n",
       "      <td>0</td>\n",
       "      <td>2</td>\n",
       "      <td>A</td>\n",
       "      <td>0</td>\n",
       "      <td>1</td>\n",
       "      <td>A</td>\n",
       "      <td>12</td>\n",
       "      <td>6</td>\n",
       "      <td>3</td>\n",
       "      <td>4</td>\n",
       "      <td>14</td>\n",
       "      <td>21</td>\n",
       "      <td>6</td>\n",
       "      <td>2</td>\n",
       "      <td>2</td>\n",
       "      <td>2</td>\n",
       "      <td>0</td>\n",
       "      <td>0</td>\n",
       "    </tr>\n",
       "    <tr>\n",
       "      <td>3</td>\n",
       "      <td>0</td>\n",
       "      <td>1</td>\n",
       "      <td>A</td>\n",
       "      <td>0</td>\n",
       "      <td>0</td>\n",
       "      <td>D</td>\n",
       "      <td>7</td>\n",
       "      <td>11</td>\n",
       "      <td>2</td>\n",
       "      <td>4</td>\n",
       "      <td>19</td>\n",
       "      <td>17</td>\n",
       "      <td>6</td>\n",
       "      <td>4</td>\n",
       "      <td>3</td>\n",
       "      <td>3</td>\n",
       "      <td>0</td>\n",
       "      <td>0</td>\n",
       "    </tr>\n",
       "    <tr>\n",
       "      <td>4</td>\n",
       "      <td>1</td>\n",
       "      <td>1</td>\n",
       "      <td>D</td>\n",
       "      <td>1</td>\n",
       "      <td>0</td>\n",
       "      <td>H</td>\n",
       "      <td>8</td>\n",
       "      <td>8</td>\n",
       "      <td>3</td>\n",
       "      <td>2</td>\n",
       "      <td>15</td>\n",
       "      <td>17</td>\n",
       "      <td>5</td>\n",
       "      <td>3</td>\n",
       "      <td>4</td>\n",
       "      <td>1</td>\n",
       "      <td>0</td>\n",
       "      <td>0</td>\n",
       "    </tr>\n",
       "  </tbody>\n",
       "</table>\n",
       "</div>"
      ],
      "text/plain": [
       "   FTHG  FTAG FTR  HTHG  HTAG HTR  HS  AS  HST  AST  HF  AF  HC  AC  HY  AY  \\\n",
       "0     0     0   D     0     0   D   8   6    1    3  17  13   3   3   4   4   \n",
       "1     2     0   H     0     0   D   4   9    2    2   8  10   1   2   3   4   \n",
       "2     0     2   A     0     1   A  12   6    3    4  14  21   6   2   2   2   \n",
       "3     0     1   A     0     0   D   7  11    2    4  19  17   6   4   3   3   \n",
       "4     1     1   D     1     0   H   8   8    3    2  15  17   5   3   4   1   \n",
       "\n",
       "   HR  AR  \n",
       "0   1   0  \n",
       "1   0   0  \n",
       "2   0   0  \n",
       "3   0   0  \n",
       "4   0   0  "
      ]
     },
     "execution_count": 2,
     "metadata": {},
     "output_type": "execute_result"
    }
   ],
   "source": [
    "df=pd.read_csv('Desktop/DataScience/datasets/liga/SP1new.csv')\n",
    "df=df.iloc[:,5:23]\n",
    "df.head()"
   ]
  },
  {
   "cell_type": "markdown",
   "metadata": {},
   "source": [
    "**Columnas:**\n",
    "1. Div = League Division\n",
    "2. Date = Match Date (dd/mm/yy)\n",
    "3. Time = Time of match kick off\n",
    "4. HomeTeam = Home Team\n",
    "5. AwayTeam = Away Team\n",
    "6. FTHG = Full Time Home Team Goals\n",
    "7. FTAG = Full Time Away Team Goals\n",
    "8. FTR  = Full Time Result (H=Home Win, D=Draw, A=Away Win)\n",
    "9. HTHG = Half Time Home Team Goals\n",
    "10. HTAG = Half Time Away Team Goals\n",
    "11. HTR = Half Time Result (H=Home Win, D=Draw, A=Away Win)\n",
    "12. HS = Home Team Shots\n",
    "13. AS = Away Team Shots\n",
    "14. HST = Home Team Shots on Target\n",
    "15. AST = Away Team Shots on Target\n",
    "16. HF = Home Team Fouls Committed\n",
    "17. AF = Away Team Fouls Committed\n",
    "18. HC = Home Team Corners\n",
    "19. AC = Away Team Corners\n",
    "20. HY = Home Team Yellow Cards\n",
    "21. AY = Away Team Yellow Cards\n",
    "22. HR = Home Team Red Cards\n",
    "23. AR = Away Team Red Cards\n",
    "24. B365H = Bet365 home win odds\n",
    "25. B365D = Bet365 draw odds\n",
    "26. B365A = Bet365 away win odds"
   ]
  },
  {
   "cell_type": "code",
   "execution_count": 3,
   "metadata": {},
   "outputs": [
    {
     "data": {
      "text/plain": [
       "0"
      ]
     },
     "execution_count": 3,
     "metadata": {},
     "output_type": "execute_result"
    }
   ],
   "source": [
    "df.isnull().sum().sum() # no hay nulos"
   ]
  },
  {
   "cell_type": "code",
   "execution_count": 4,
   "metadata": {},
   "outputs": [],
   "source": [
    "# separamos variable explicada 'y' del resto 'X'\n",
    "X=df.drop('FTR','columns')\n",
    "y=df.FTR"
   ]
  },
  {
   "cell_type": "code",
   "execution_count": 5,
   "metadata": {},
   "outputs": [
    {
     "data": {
      "text/plain": [
       "FTHG     int64\n",
       "FTAG     int64\n",
       "HTHG     int64\n",
       "HTAG     int64\n",
       "HTR     object\n",
       "HS       int64\n",
       "AS       int64\n",
       "HST      int64\n",
       "AST      int64\n",
       "HF       int64\n",
       "AF       int64\n",
       "HC       int64\n",
       "AC       int64\n",
       "HY       int64\n",
       "AY       int64\n",
       "HR       int64\n",
       "AR       int64\n",
       "dtype: object"
      ]
     },
     "execution_count": 5,
     "metadata": {},
     "output_type": "execute_result"
    }
   ],
   "source": [
    "X.dtypes #tenemos 1 variable categórica HTR"
   ]
  },
  {
   "cell_type": "code",
   "execution_count": 6,
   "metadata": {},
   "outputs": [
    {
     "data": {
      "text/plain": [
       "array(['D', 'A', 'H'], dtype=object)"
      ]
     },
     "execution_count": 6,
     "metadata": {},
     "output_type": "execute_result"
    }
   ],
   "source": [
    "X.HTR.unique() #valores de HTR"
   ]
  },
  {
   "cell_type": "code",
   "execution_count": 7,
   "metadata": {},
   "outputs": [
    {
     "data": {
      "text/html": [
       "<div>\n",
       "<style scoped>\n",
       "    .dataframe tbody tr th:only-of-type {\n",
       "        vertical-align: middle;\n",
       "    }\n",
       "\n",
       "    .dataframe tbody tr th {\n",
       "        vertical-align: top;\n",
       "    }\n",
       "\n",
       "    .dataframe thead th {\n",
       "        text-align: right;\n",
       "    }\n",
       "</style>\n",
       "<table border=\"1\" class=\"dataframe\">\n",
       "  <thead>\n",
       "    <tr style=\"text-align: right;\">\n",
       "      <th></th>\n",
       "      <th>FTHG</th>\n",
       "      <th>FTAG</th>\n",
       "      <th>HTHG</th>\n",
       "      <th>HTAG</th>\n",
       "      <th>HS</th>\n",
       "      <th>AS</th>\n",
       "      <th>HST</th>\n",
       "      <th>AST</th>\n",
       "      <th>HF</th>\n",
       "      <th>AF</th>\n",
       "      <th>HC</th>\n",
       "      <th>AC</th>\n",
       "      <th>HY</th>\n",
       "      <th>AY</th>\n",
       "      <th>HR</th>\n",
       "      <th>AR</th>\n",
       "      <th>HTR_D</th>\n",
       "      <th>HTR_H</th>\n",
       "    </tr>\n",
       "  </thead>\n",
       "  <tbody>\n",
       "    <tr>\n",
       "      <td>0</td>\n",
       "      <td>0</td>\n",
       "      <td>0</td>\n",
       "      <td>0</td>\n",
       "      <td>0</td>\n",
       "      <td>8</td>\n",
       "      <td>6</td>\n",
       "      <td>1</td>\n",
       "      <td>3</td>\n",
       "      <td>17</td>\n",
       "      <td>13</td>\n",
       "      <td>3</td>\n",
       "      <td>3</td>\n",
       "      <td>4</td>\n",
       "      <td>4</td>\n",
       "      <td>1</td>\n",
       "      <td>0</td>\n",
       "      <td>1</td>\n",
       "      <td>0</td>\n",
       "    </tr>\n",
       "    <tr>\n",
       "      <td>1</td>\n",
       "      <td>2</td>\n",
       "      <td>0</td>\n",
       "      <td>0</td>\n",
       "      <td>0</td>\n",
       "      <td>4</td>\n",
       "      <td>9</td>\n",
       "      <td>2</td>\n",
       "      <td>2</td>\n",
       "      <td>8</td>\n",
       "      <td>10</td>\n",
       "      <td>1</td>\n",
       "      <td>2</td>\n",
       "      <td>3</td>\n",
       "      <td>4</td>\n",
       "      <td>0</td>\n",
       "      <td>0</td>\n",
       "      <td>1</td>\n",
       "      <td>0</td>\n",
       "    </tr>\n",
       "    <tr>\n",
       "      <td>2</td>\n",
       "      <td>0</td>\n",
       "      <td>2</td>\n",
       "      <td>0</td>\n",
       "      <td>1</td>\n",
       "      <td>12</td>\n",
       "      <td>6</td>\n",
       "      <td>3</td>\n",
       "      <td>4</td>\n",
       "      <td>14</td>\n",
       "      <td>21</td>\n",
       "      <td>6</td>\n",
       "      <td>2</td>\n",
       "      <td>2</td>\n",
       "      <td>2</td>\n",
       "      <td>0</td>\n",
       "      <td>0</td>\n",
       "      <td>0</td>\n",
       "      <td>0</td>\n",
       "    </tr>\n",
       "    <tr>\n",
       "      <td>3</td>\n",
       "      <td>0</td>\n",
       "      <td>1</td>\n",
       "      <td>0</td>\n",
       "      <td>0</td>\n",
       "      <td>7</td>\n",
       "      <td>11</td>\n",
       "      <td>2</td>\n",
       "      <td>4</td>\n",
       "      <td>19</td>\n",
       "      <td>17</td>\n",
       "      <td>6</td>\n",
       "      <td>4</td>\n",
       "      <td>3</td>\n",
       "      <td>3</td>\n",
       "      <td>0</td>\n",
       "      <td>0</td>\n",
       "      <td>1</td>\n",
       "      <td>0</td>\n",
       "    </tr>\n",
       "    <tr>\n",
       "      <td>4</td>\n",
       "      <td>1</td>\n",
       "      <td>1</td>\n",
       "      <td>1</td>\n",
       "      <td>0</td>\n",
       "      <td>8</td>\n",
       "      <td>8</td>\n",
       "      <td>3</td>\n",
       "      <td>2</td>\n",
       "      <td>15</td>\n",
       "      <td>17</td>\n",
       "      <td>5</td>\n",
       "      <td>3</td>\n",
       "      <td>4</td>\n",
       "      <td>1</td>\n",
       "      <td>0</td>\n",
       "      <td>0</td>\n",
       "      <td>0</td>\n",
       "      <td>1</td>\n",
       "    </tr>\n",
       "  </tbody>\n",
       "</table>\n",
       "</div>"
      ],
      "text/plain": [
       "   FTHG  FTAG  HTHG  HTAG  HS  AS  HST  AST  HF  AF  HC  AC  HY  AY  HR  AR  \\\n",
       "0     0     0     0     0   8   6    1    3  17  13   3   3   4   4   1   0   \n",
       "1     2     0     0     0   4   9    2    2   8  10   1   2   3   4   0   0   \n",
       "2     0     2     0     1  12   6    3    4  14  21   6   2   2   2   0   0   \n",
       "3     0     1     0     0   7  11    2    4  19  17   6   4   3   3   0   0   \n",
       "4     1     1     1     0   8   8    3    2  15  17   5   3   4   1   0   0   \n",
       "\n",
       "   HTR_D  HTR_H  \n",
       "0      1      0  \n",
       "1      1      0  \n",
       "2      0      0  \n",
       "3      1      0  \n",
       "4      0      1  "
      ]
     },
     "execution_count": 7,
     "metadata": {},
     "output_type": "execute_result"
    }
   ],
   "source": [
    "# creamos dummies\n",
    "X_dummies=pd.get_dummies(data=X, columns=['HTR'],drop_first=True)\n",
    "X_dummies.head()"
   ]
  },
  {
   "cell_type": "code",
   "execution_count": 8,
   "metadata": {},
   "outputs": [
    {
     "data": {
      "text/plain": [
       "(17, 18)"
      ]
     },
     "execution_count": 8,
     "metadata": {},
     "output_type": "execute_result"
    }
   ],
   "source": [
    "# vemos que tenemos 3 categorías, para evitar dummy trap con drop_first eliminamos una de las columnas que es explicada por \n",
    "# las otras dos. Así que tendríamos dos columnas más que en el dataset original pero como get_dummies ya nos elimina la\n",
    "# columna sin codificar en X_dummies,solo tendremos 1 columna más que en el original.\n",
    "X.shape[1], X_dummies.shape[1]"
   ]
  },
  {
   "cell_type": "code",
   "execution_count": 9,
   "metadata": {},
   "outputs": [],
   "source": [
    "# Estandarizamos restando la media y dividiendo por la desviación\n",
    "from sklearn.preprocessing import StandardScaler\n",
    "scaler=StandardScaler()\n",
    "X_t=scaler.fit_transform(X_dummies) #devuelve un array NumPy, no un DataFrame"
   ]
  },
  {
   "cell_type": "code",
   "execution_count": 10,
   "metadata": {},
   "outputs": [
    {
     "data": {
      "text/plain": [
       "array([ 7.78597965e-17,  3.46043540e-17, -6.19994676e-17, -5.76739234e-18,\n",
       "        7.49761004e-17, -5.76739234e-17, -8.65108850e-18, -5.76739234e-17,\n",
       "        1.21115239e-16, -3.46043540e-17,  2.88369617e-17,  4.32554425e-17,\n",
       "       -1.26882631e-16,  1.21115239e-16,  3.74880502e-17, -4.61391387e-17,\n",
       "       -8.93945812e-17, -1.44184808e-17])"
      ]
     },
     "execution_count": 10,
     "metadata": {},
     "output_type": "execute_result"
    }
   ],
   "source": [
    "X_t.mean(axis=0) #Ahora tenemos media 0"
   ]
  },
  {
   "cell_type": "code",
   "execution_count": 11,
   "metadata": {},
   "outputs": [
    {
     "data": {
      "text/plain": [
       "array([1., 1., 1., 1., 1., 1., 1., 1., 1., 1., 1., 1., 1., 1., 1., 1., 1.,\n",
       "       1.])"
      ]
     },
     "execution_count": 11,
     "metadata": {},
     "output_type": "execute_result"
    }
   ],
   "source": [
    "X_t.std(axis=0) # y desviación 1"
   ]
  },
  {
   "cell_type": "markdown",
   "metadata": {},
   "source": [
    "# Nivell 2\n",
    "#### Exercici 2\n",
    "Continua amb el conjunt de dades de tema esportiu que t'agradi i aplica l'anàlisi de components principals."
   ]
  },
  {
   "cell_type": "code",
   "execution_count": 12,
   "metadata": {},
   "outputs": [],
   "source": [
    "from sklearn.decomposition import PCA"
   ]
  },
  {
   "cell_type": "code",
   "execution_count": 13,
   "metadata": {},
   "outputs": [
    {
     "data": {
      "image/png": "[encoded data removed]",
      "text/plain": [
       "<Figure size 1080x360 with 2 Axes>"
      ]
     },
     "metadata": {
      "needs_background": "light"
     },
     "output_type": "display_data"
    }
   ],
   "source": [
    "pca=PCA()\n",
    "pca.fit(X_t)\n",
    "\n",
    "plt.figure(figsize=(15,5))\n",
    "#Varianza explicada por cada componente\n",
    "plt.subplot(1,2,1)\n",
    "features=range(pca.n_components_)\n",
    "plt.bar(features,pca.explained_variance_) #autovalores\n",
    "plt.xlabel('PCA feature')\n",
    "plt.ylabel('variance')\n",
    "plt.title('Varianza por componente')\n",
    "plt.xticks(features)\n",
    "# % de varianza explicada acumulada por cada componente\n",
    "plt.subplot(1,2,2)\n",
    "plt.plot(features,pca.explained_variance_ratio_.cumsum()*100)\n",
    "plt.xlabel('PCA feature')\n",
    "plt.ylabel('% cumulative explained variance')\n",
    "plt.title('Varianza acumulada por componente')\n",
    "plt.xticks(features)\n",
    "plt.show()"
   ]
  },
  {
   "cell_type": "code",
   "execution_count": 14,
   "metadata": {},
   "outputs": [
    {
     "data": {
      "text/plain": [
       "array([0.17564775, 0.32554214, 0.45289279, 0.55609663, 0.62365586,\n",
       "       0.68167458, 0.73350058, 0.78372713, 0.82796092, 0.86132445,\n",
       "       0.88921512, 0.91592293, 0.9417514 , 0.95811716, 0.97313858,\n",
       "       0.98646248, 0.99670397, 1.        ])"
      ]
     },
     "execution_count": 14,
     "metadata": {},
     "output_type": "execute_result"
    }
   ],
   "source": [
    "# la varianza acumulada por componente\n",
    "pca.explained_variance_ratio_.cumsum()"
   ]
  },
  {
   "cell_type": "markdown",
   "metadata": {},
   "source": [
    "Vemos en el array que con las 12 primeras componentes PCA tenemos más del 90% de la variancia del dataset. Por lo que podemos reducir el dataset en seis componentes menos, disminuyendo el coste computacional  y perdiendo muy poca información"
   ]
  },
  {
   "cell_type": "code",
   "execution_count": 15,
   "metadata": {},
   "outputs": [
    {
     "name": "stdout",
     "output_type": "stream",
     "text": [
      "Nuevas coordenadas dataset:\n"
     ]
    },
    {
     "data": {
      "text/html": [
       "<div>\n",
       "<style scoped>\n",
       "    .dataframe tbody tr th:only-of-type {\n",
       "        vertical-align: middle;\n",
       "    }\n",
       "\n",
       "    .dataframe tbody tr th {\n",
       "        vertical-align: top;\n",
       "    }\n",
       "\n",
       "    .dataframe thead th {\n",
       "        text-align: right;\n",
       "    }\n",
       "</style>\n",
       "<table border=\"1\" class=\"dataframe\">\n",
       "  <thead>\n",
       "    <tr style=\"text-align: right;\">\n",
       "      <th></th>\n",
       "      <th>PC1</th>\n",
       "      <th>PC2</th>\n",
       "      <th>PC3</th>\n",
       "      <th>PC4</th>\n",
       "      <th>PC5</th>\n",
       "      <th>PC6</th>\n",
       "      <th>PC7</th>\n",
       "      <th>PC8</th>\n",
       "      <th>PC9</th>\n",
       "      <th>PC10</th>\n",
       "      <th>PC11</th>\n",
       "      <th>PC12</th>\n",
       "    </tr>\n",
       "  </thead>\n",
       "  <tbody>\n",
       "    <tr>\n",
       "      <td>0</td>\n",
       "      <td>-1.744553</td>\n",
       "      <td>-1.846889</td>\n",
       "      <td>-1.792675</td>\n",
       "      <td>1.640950</td>\n",
       "      <td>0.987563</td>\n",
       "      <td>-1.674657</td>\n",
       "      <td>1.595959</td>\n",
       "      <td>0.943968</td>\n",
       "      <td>1.051073</td>\n",
       "      <td>-0.417836</td>\n",
       "      <td>0.232972</td>\n",
       "      <td>-0.408297</td>\n",
       "    </tr>\n",
       "    <tr>\n",
       "      <td>1</td>\n",
       "      <td>-0.655647</td>\n",
       "      <td>-1.335280</td>\n",
       "      <td>-1.504721</td>\n",
       "      <td>-0.273079</td>\n",
       "      <td>0.359309</td>\n",
       "      <td>0.635972</td>\n",
       "      <td>0.888636</td>\n",
       "      <td>-0.742127</td>\n",
       "      <td>0.672937</td>\n",
       "      <td>-0.284944</td>\n",
       "      <td>1.993078</td>\n",
       "      <td>-1.327925</td>\n",
       "    </tr>\n",
       "    <tr>\n",
       "      <td>2</td>\n",
       "      <td>-0.721151</td>\n",
       "      <td>-1.232696</td>\n",
       "      <td>1.437926</td>\n",
       "      <td>0.961367</td>\n",
       "      <td>-1.495749</td>\n",
       "      <td>0.554383</td>\n",
       "      <td>-0.048712</td>\n",
       "      <td>0.773591</td>\n",
       "      <td>-0.476492</td>\n",
       "      <td>1.064097</td>\n",
       "      <td>-0.415717</td>\n",
       "      <td>0.330505</td>\n",
       "    </tr>\n",
       "    <tr>\n",
       "      <td>3</td>\n",
       "      <td>-1.703060</td>\n",
       "      <td>-1.583061</td>\n",
       "      <td>-0.783402</td>\n",
       "      <td>0.536874</td>\n",
       "      <td>-0.042065</td>\n",
       "      <td>-0.186259</td>\n",
       "      <td>-0.385509</td>\n",
       "      <td>-0.182165</td>\n",
       "      <td>-0.951003</td>\n",
       "      <td>-0.030199</td>\n",
       "      <td>-1.057755</td>\n",
       "      <td>-0.841784</td>\n",
       "    </tr>\n",
       "    <tr>\n",
       "      <td>4</td>\n",
       "      <td>0.551021</td>\n",
       "      <td>0.335812</td>\n",
       "      <td>-1.402726</td>\n",
       "      <td>0.782375</td>\n",
       "      <td>-1.361872</td>\n",
       "      <td>-0.443446</td>\n",
       "      <td>-0.059165</td>\n",
       "      <td>0.230152</td>\n",
       "      <td>-0.341063</td>\n",
       "      <td>1.931611</td>\n",
       "      <td>-0.388072</td>\n",
       "      <td>-0.268844</td>\n",
       "    </tr>\n",
       "  </tbody>\n",
       "</table>\n",
       "</div>"
      ],
      "text/plain": [
       "        PC1       PC2       PC3       PC4       PC5       PC6       PC7  \\\n",
       "0 -1.744553 -1.846889 -1.792675  1.640950  0.987563 -1.674657  1.595959   \n",
       "1 -0.655647 -1.335280 -1.504721 -0.273079  0.359309  0.635972  0.888636   \n",
       "2 -0.721151 -1.232696  1.437926  0.961367 -1.495749  0.554383 -0.048712   \n",
       "3 -1.703060 -1.583061 -0.783402  0.536874 -0.042065 -0.186259 -0.385509   \n",
       "4  0.551021  0.335812 -1.402726  0.782375 -1.361872 -0.443446 -0.059165   \n",
       "\n",
       "        PC8       PC9      PC10      PC11      PC12  \n",
       "0  0.943968  1.051073 -0.417836  0.232972 -0.408297  \n",
       "1 -0.742127  0.672937 -0.284944  1.993078 -1.327925  \n",
       "2  0.773591 -0.476492  1.064097 -0.415717  0.330505  \n",
       "3 -0.182165 -0.951003 -0.030199 -1.057755 -0.841784  \n",
       "4  0.230152 -0.341063  1.931611 -0.388072 -0.268844  "
      ]
     },
     "execution_count": 15,
     "metadata": {},
     "output_type": "execute_result"
    }
   ],
   "source": [
    "# Para 12 componentes\n",
    "pca=PCA(n_components=12)\n",
    "model=pca.fit_transform(X_t) #convertimos los datos a las nuevas dimensiones\n",
    "proyecciones = pd.DataFrame(\n",
    "    model,\n",
    "    columns = ['PC'+str(i) for i in range(1,13)],\n",
    "    index=X.index)\n",
    "print('Nuevas coordenadas dataset:')\n",
    "proyecciones.head()"
   ]
  },
  {
   "cell_type": "markdown",
   "metadata": {},
   "source": [
    "Cada muestra original quedará transformada en una proyección de 12 componentes en el nuevo sistema de coordenadas. El método transform lo que hace es mutiplicar la matriz original X_transf2 por la matriz de pca.components_, que es la matriz de los autovectores\n",
    "\n",
    "Por ejemplo para la primera muestra de X_transf2 si la multiplicamos por la matriz de pca.components_ obtenemos la primera fila de la proyección de la celda anterior."
   ]
  },
  {
   "cell_type": "code",
   "execution_count": 16,
   "metadata": {},
   "outputs": [
    {
     "data": {
      "text/plain": [
       "array([-1.74455257, -1.84688902, -1.7926747 ,  1.64094968,  0.9875633 ,\n",
       "       -1.6746568 ,  1.59595937,  0.94396812,  1.05107252, -0.41783577,\n",
       "        0.23297162, -0.40829651])"
      ]
     },
     "execution_count": 16,
     "metadata": {},
     "output_type": "execute_result"
    }
   ],
   "source": [
    "X_t[0].dot(pca.components_.T)"
   ]
  },
  {
   "cell_type": "code",
   "execution_count": 17,
   "metadata": {},
   "outputs": [
    {
     "data": {
      "text/plain": [
       "(12, 18)"
      ]
     },
     "execution_count": 17,
     "metadata": {},
     "output_type": "execute_result"
    }
   ],
   "source": [
    "pca.components_.shape"
   ]
  },
  {
   "cell_type": "markdown",
   "metadata": {},
   "source": [
    "**Interpretación de los nuevos ejes:**"
   ]
  },
  {
   "cell_type": "code",
   "execution_count": 18,
   "metadata": {},
   "outputs": [
    {
     "data": {
      "text/html": [
       "<div>\n",
       "<style scoped>\n",
       "    .dataframe tbody tr th:only-of-type {\n",
       "        vertical-align: middle;\n",
       "    }\n",
       "\n",
       "    .dataframe tbody tr th {\n",
       "        vertical-align: top;\n",
       "    }\n",
       "\n",
       "    .dataframe thead th {\n",
       "        text-align: right;\n",
       "    }\n",
       "</style>\n",
       "<table border=\"1\" class=\"dataframe\">\n",
       "  <thead>\n",
       "    <tr style=\"text-align: right;\">\n",
       "      <th></th>\n",
       "      <th>PC1</th>\n",
       "      <th>PC2</th>\n",
       "      <th>PC3</th>\n",
       "      <th>PC4</th>\n",
       "      <th>PC5</th>\n",
       "      <th>PC6</th>\n",
       "      <th>PC7</th>\n",
       "      <th>PC8</th>\n",
       "      <th>PC9</th>\n",
       "      <th>PC10</th>\n",
       "      <th>PC11</th>\n",
       "      <th>PC12</th>\n",
       "    </tr>\n",
       "  </thead>\n",
       "  <tbody>\n",
       "    <tr>\n",
       "      <td>FTHG</td>\n",
       "      <td>0.366357</td>\n",
       "      <td>0.294945</td>\n",
       "      <td>0.018114</td>\n",
       "      <td>0.048524</td>\n",
       "      <td>0.078946</td>\n",
       "      <td>0.061799</td>\n",
       "      <td>0.292511</td>\n",
       "      <td>-0.280965</td>\n",
       "      <td>-0.090479</td>\n",
       "      <td>-0.166964</td>\n",
       "      <td>-0.050343</td>\n",
       "      <td>-0.015259</td>\n",
       "    </tr>\n",
       "    <tr>\n",
       "      <td>FTAG</td>\n",
       "      <td>-0.228761</td>\n",
       "      <td>0.221658</td>\n",
       "      <td>0.456051</td>\n",
       "      <td>0.118181</td>\n",
       "      <td>-0.126327</td>\n",
       "      <td>-0.013473</td>\n",
       "      <td>-0.003538</td>\n",
       "      <td>-0.065842</td>\n",
       "      <td>0.083646</td>\n",
       "      <td>-0.001788</td>\n",
       "      <td>-0.051302</td>\n",
       "      <td>-0.008528</td>\n",
       "    </tr>\n",
       "    <tr>\n",
       "      <td>FTR</td>\n",
       "      <td>0.284672</td>\n",
       "      <td>0.416549</td>\n",
       "      <td>-0.091176</td>\n",
       "      <td>0.075482</td>\n",
       "      <td>-0.037832</td>\n",
       "      <td>0.073265</td>\n",
       "      <td>0.220918</td>\n",
       "      <td>-0.114687</td>\n",
       "      <td>0.003657</td>\n",
       "      <td>-0.078843</td>\n",
       "      <td>-0.196089</td>\n",
       "      <td>-0.206422</td>\n",
       "    </tr>\n",
       "    <tr>\n",
       "      <td>HTHG</td>\n",
       "      <td>-0.168265</td>\n",
       "      <td>0.152881</td>\n",
       "      <td>0.489933</td>\n",
       "      <td>0.182948</td>\n",
       "      <td>-0.200799</td>\n",
       "      <td>0.025961</td>\n",
       "      <td>0.069847</td>\n",
       "      <td>-0.068858</td>\n",
       "      <td>0.124301</td>\n",
       "      <td>-0.159582</td>\n",
       "      <td>0.006007</td>\n",
       "      <td>0.245769</td>\n",
       "    </tr>\n",
       "    <tr>\n",
       "      <td>HTAG</td>\n",
       "      <td>0.364673</td>\n",
       "      <td>-0.102085</td>\n",
       "      <td>0.296136</td>\n",
       "      <td>0.025408</td>\n",
       "      <td>0.194273</td>\n",
       "      <td>-0.237648</td>\n",
       "      <td>-0.197962</td>\n",
       "      <td>0.134084</td>\n",
       "      <td>-0.194659</td>\n",
       "      <td>-0.040146</td>\n",
       "      <td>0.128282</td>\n",
       "      <td>0.140099</td>\n",
       "    </tr>\n",
       "    <tr>\n",
       "      <td>HTR</td>\n",
       "      <td>-0.289081</td>\n",
       "      <td>0.345148</td>\n",
       "      <td>-0.007309</td>\n",
       "      <td>-0.207488</td>\n",
       "      <td>0.306340</td>\n",
       "      <td>-0.023171</td>\n",
       "      <td>-0.103103</td>\n",
       "      <td>0.026666</td>\n",
       "      <td>-0.210007</td>\n",
       "      <td>0.042193</td>\n",
       "      <td>-0.119914</td>\n",
       "      <td>-0.257261</td>\n",
       "    </tr>\n",
       "    <tr>\n",
       "      <td>HS</td>\n",
       "      <td>0.398965</td>\n",
       "      <td>0.107822</td>\n",
       "      <td>0.247754</td>\n",
       "      <td>0.007921</td>\n",
       "      <td>0.221226</td>\n",
       "      <td>-0.114743</td>\n",
       "      <td>-0.008626</td>\n",
       "      <td>-0.060235</td>\n",
       "      <td>-0.297736</td>\n",
       "      <td>-0.105801</td>\n",
       "      <td>0.216141</td>\n",
       "      <td>0.236279</td>\n",
       "    </tr>\n",
       "    <tr>\n",
       "      <td>AS</td>\n",
       "      <td>-0.283326</td>\n",
       "      <td>0.311031</td>\n",
       "      <td>0.313432</td>\n",
       "      <td>-0.109656</td>\n",
       "      <td>0.165368</td>\n",
       "      <td>0.024551</td>\n",
       "      <td>-0.066814</td>\n",
       "      <td>-0.063647</td>\n",
       "      <td>-0.171080</td>\n",
       "      <td>0.073927</td>\n",
       "      <td>-0.034810</td>\n",
       "      <td>-0.271576</td>\n",
       "    </tr>\n",
       "    <tr>\n",
       "      <td>HST</td>\n",
       "      <td>-0.121303</td>\n",
       "      <td>0.016161</td>\n",
       "      <td>-0.231074</td>\n",
       "      <td>0.383305</td>\n",
       "      <td>-0.235553</td>\n",
       "      <td>-0.311537</td>\n",
       "      <td>-0.177862</td>\n",
       "      <td>-0.326873</td>\n",
       "      <td>-0.176027</td>\n",
       "      <td>-0.340051</td>\n",
       "      <td>-0.443911</td>\n",
       "      <td>0.148031</td>\n",
       "    </tr>\n",
       "    <tr>\n",
       "      <td>AST</td>\n",
       "      <td>-0.059241</td>\n",
       "      <td>-0.141306</td>\n",
       "      <td>0.042570</td>\n",
       "      <td>0.361719</td>\n",
       "      <td>-0.010906</td>\n",
       "      <td>0.448248</td>\n",
       "      <td>0.290454</td>\n",
       "      <td>0.217583</td>\n",
       "      <td>-0.551050</td>\n",
       "      <td>0.345056</td>\n",
       "      <td>-0.246307</td>\n",
       "      <td>0.152272</td>\n",
       "    </tr>\n",
       "    <tr>\n",
       "      <td>HF</td>\n",
       "      <td>0.261637</td>\n",
       "      <td>-0.214066</td>\n",
       "      <td>0.278661</td>\n",
       "      <td>-0.070090</td>\n",
       "      <td>0.007391</td>\n",
       "      <td>-0.182746</td>\n",
       "      <td>-0.243469</td>\n",
       "      <td>0.327821</td>\n",
       "      <td>0.027913</td>\n",
       "      <td>0.016411</td>\n",
       "      <td>-0.628602</td>\n",
       "      <td>-0.290156</td>\n",
       "    </tr>\n",
       "    <tr>\n",
       "      <td>AF</td>\n",
       "      <td>-0.174912</td>\n",
       "      <td>0.257920</td>\n",
       "      <td>-0.236512</td>\n",
       "      <td>-0.209638</td>\n",
       "      <td>0.268047</td>\n",
       "      <td>0.085883</td>\n",
       "      <td>-0.290362</td>\n",
       "      <td>0.252392</td>\n",
       "      <td>-0.164772</td>\n",
       "      <td>-0.241806</td>\n",
       "      <td>-0.142813</td>\n",
       "      <td>0.531626</td>\n",
       "    </tr>\n",
       "    <tr>\n",
       "      <td>HC</td>\n",
       "      <td>-0.129357</td>\n",
       "      <td>0.040409</td>\n",
       "      <td>-0.120023</td>\n",
       "      <td>0.411962</td>\n",
       "      <td>0.174154</td>\n",
       "      <td>-0.507111</td>\n",
       "      <td>-0.143737</td>\n",
       "      <td>-0.118974</td>\n",
       "      <td>-0.192624</td>\n",
       "      <td>0.409711</td>\n",
       "      <td>0.232722</td>\n",
       "      <td>-0.110632</td>\n",
       "    </tr>\n",
       "    <tr>\n",
       "      <td>AC</td>\n",
       "      <td>-0.039847</td>\n",
       "      <td>-0.063256</td>\n",
       "      <td>-0.036408</td>\n",
       "      <td>0.499582</td>\n",
       "      <td>0.208412</td>\n",
       "      <td>0.285748</td>\n",
       "      <td>-0.184563</td>\n",
       "      <td>0.271005</td>\n",
       "      <td>0.017285</td>\n",
       "      <td>-0.537897</td>\n",
       "      <td>0.263098</td>\n",
       "      <td>-0.383972</td>\n",
       "    </tr>\n",
       "    <tr>\n",
       "      <td>HY</td>\n",
       "      <td>-0.117950</td>\n",
       "      <td>0.093347</td>\n",
       "      <td>-0.035353</td>\n",
       "      <td>0.185655</td>\n",
       "      <td>0.331820</td>\n",
       "      <td>-0.371371</td>\n",
       "      <td>0.563941</td>\n",
       "      <td>0.421068</td>\n",
       "      <td>0.340499</td>\n",
       "      <td>-0.048162</td>\n",
       "      <td>-0.125950</td>\n",
       "      <td>0.148989</td>\n",
       "    </tr>\n",
       "    <tr>\n",
       "      <td>AY</td>\n",
       "      <td>0.101782</td>\n",
       "      <td>-0.022368</td>\n",
       "      <td>0.039976</td>\n",
       "      <td>0.253292</td>\n",
       "      <td>0.496748</td>\n",
       "      <td>0.317972</td>\n",
       "      <td>-0.267470</td>\n",
       "      <td>-0.343558</td>\n",
       "      <td>0.465804</td>\n",
       "      <td>0.281528</td>\n",
       "      <td>-0.218021</td>\n",
       "      <td>0.173688</td>\n",
       "    </tr>\n",
       "    <tr>\n",
       "      <td>HR</td>\n",
       "      <td>-0.092583</td>\n",
       "      <td>-0.364550</td>\n",
       "      <td>-0.043628</td>\n",
       "      <td>-0.203206</td>\n",
       "      <td>0.395696</td>\n",
       "      <td>-0.042828</td>\n",
       "      <td>0.304801</td>\n",
       "      <td>-0.360898</td>\n",
       "      <td>-0.184592</td>\n",
       "      <td>-0.222154</td>\n",
       "      <td>-0.130068</td>\n",
       "      <td>-0.182743</td>\n",
       "    </tr>\n",
       "    <tr>\n",
       "      <td>AR</td>\n",
       "      <td>0.282244</td>\n",
       "      <td>0.385687</td>\n",
       "      <td>-0.294434</td>\n",
       "      <td>0.053765</td>\n",
       "      <td>-0.116070</td>\n",
       "      <td>0.027437</td>\n",
       "      <td>-0.097983</td>\n",
       "      <td>0.184194</td>\n",
       "      <td>0.049820</td>\n",
       "      <td>0.197033</td>\n",
       "      <td>-0.025067</td>\n",
       "      <td>-0.154722</td>\n",
       "    </tr>\n",
       "  </tbody>\n",
       "</table>\n",
       "</div>"
      ],
      "text/plain": [
       "           PC1       PC2       PC3       PC4       PC5       PC6       PC7  \\\n",
       "FTHG  0.366357  0.294945  0.018114  0.048524  0.078946  0.061799  0.292511   \n",
       "FTAG -0.228761  0.221658  0.456051  0.118181 -0.126327 -0.013473 -0.003538   \n",
       "FTR   0.284672  0.416549 -0.091176  0.075482 -0.037832  0.073265  0.220918   \n",
       "HTHG -0.168265  0.152881  0.489933  0.182948 -0.200799  0.025961  0.069847   \n",
       "HTAG  0.364673 -0.102085  0.296136  0.025408  0.194273 -0.237648 -0.197962   \n",
       "HTR  -0.289081  0.345148 -0.007309 -0.207488  0.306340 -0.023171 -0.103103   \n",
       "HS    0.398965  0.107822  0.247754  0.007921  0.221226 -0.114743 -0.008626   \n",
       "AS   -0.283326  0.311031  0.313432 -0.109656  0.165368  0.024551 -0.066814   \n",
       "HST  -0.121303  0.016161 -0.231074  0.383305 -0.235553 -0.311537 -0.177862   \n",
       "AST  -0.059241 -0.141306  0.042570  0.361719 -0.010906  0.448248  0.290454   \n",
       "HF    0.261637 -0.214066  0.278661 -0.070090  0.007391 -0.182746 -0.243469   \n",
       "AF   -0.174912  0.257920 -0.236512 -0.209638  0.268047  0.085883 -0.290362   \n",
       "HC   -0.129357  0.040409 -0.120023  0.411962  0.174154 -0.507111 -0.143737   \n",
       "AC   -0.039847 -0.063256 -0.036408  0.499582  0.208412  0.285748 -0.184563   \n",
       "HY   -0.117950  0.093347 -0.035353  0.185655  0.331820 -0.371371  0.563941   \n",
       "AY    0.101782 -0.022368  0.039976  0.253292  0.496748  0.317972 -0.267470   \n",
       "HR   -0.092583 -0.364550 -0.043628 -0.203206  0.395696 -0.042828  0.304801   \n",
       "AR    0.282244  0.385687 -0.294434  0.053765 -0.116070  0.027437 -0.097983   \n",
       "\n",
       "           PC8       PC9      PC10      PC11      PC12  \n",
       "FTHG -0.280965 -0.090479 -0.166964 -0.050343 -0.015259  \n",
       "FTAG -0.065842  0.083646 -0.001788 -0.051302 -0.008528  \n",
       "FTR  -0.114687  0.003657 -0.078843 -0.196089 -0.206422  \n",
       "HTHG -0.068858  0.124301 -0.159582  0.006007  0.245769  \n",
       "HTAG  0.134084 -0.194659 -0.040146  0.128282  0.140099  \n",
       "HTR   0.026666 -0.210007  0.042193 -0.119914 -0.257261  \n",
       "HS   -0.060235 -0.297736 -0.105801  0.216141  0.236279  \n",
       "AS   -0.063647 -0.171080  0.073927 -0.034810 -0.271576  \n",
       "HST  -0.326873 -0.176027 -0.340051 -0.443911  0.148031  \n",
       "AST   0.217583 -0.551050  0.345056 -0.246307  0.152272  \n",
       "HF    0.327821  0.027913  0.016411 -0.628602 -0.290156  \n",
       "AF    0.252392 -0.164772 -0.241806 -0.142813  0.531626  \n",
       "HC   -0.118974 -0.192624  0.409711  0.232722 -0.110632  \n",
       "AC    0.271005  0.017285 -0.537897  0.263098 -0.383972  \n",
       "HY    0.421068  0.340499 -0.048162 -0.125950  0.148989  \n",
       "AY   -0.343558  0.465804  0.281528 -0.218021  0.173688  \n",
       "HR   -0.360898 -0.184592 -0.222154 -0.130068 -0.182743  \n",
       "AR    0.184194  0.049820  0.197033 -0.025067 -0.154722  "
      ]
     },
     "execution_count": 18,
     "metadata": {},
     "output_type": "execute_result"
    }
   ],
   "source": [
    "#Creamos un dataframe con los autovectores, así vemos la importancia que tiene cada feature en los nuevos ejes. Cuanto\n",
    "#mayor sea este valor, teniendo en cuenta el signo, mayor presencia tendrá en este nuevo componente.\n",
    "eig_vectors=pd.DataFrame(pca.components_.T,columns=['PC'+str(i) for i in range(1,13)],index=df.columns)\n",
    "eig_vectors"
   ]
  },
  {
   "cell_type": "markdown",
   "metadata": {},
   "source": [
    "Por ejemplo, el componente PC1 tiene una importante relación con HS (0.39), disparos equipo de casa, y FTHG (0.36) y HTAG (0.36), goles marcados por equipo local y visitante respectivamente. "
   ]
  },
  {
   "cell_type": "code",
   "execution_count": 19,
   "metadata": {},
   "outputs": [
    {
     "data": {
      "text/plain": [
       "FTHG    0.366357\n",
       "HTAG    0.364673\n",
       "HS      0.398965\n",
       "Name: PC1, dtype: float64"
      ]
     },
     "execution_count": 19,
     "metadata": {},
     "output_type": "execute_result"
    }
   ],
   "source": [
    "eig_vectors.loc[np.abs(eig_vectors.loc[:,'PC1'])>=0.3,'PC1']"
   ]
  },
  {
   "cell_type": "markdown",
   "metadata": {},
   "source": [
    "Y el componente PC2 estaría relacionado en gran parte con FTR (0.41), resultado final, AR (0.38), tarjetas roja equipo casa y HR (-0.36), tarjetas rojas equipo casa donde el signo contrario indica que es inversamente proporcional."
   ]
  },
  {
   "cell_type": "code",
   "execution_count": 20,
   "metadata": {},
   "outputs": [
    {
     "data": {
      "text/plain": [
       "FTR    0.416549\n",
       "HTR    0.345148\n",
       "AS     0.311031\n",
       "HR    -0.364550\n",
       "AR     0.385687\n",
       "Name: PC2, dtype: float64"
      ]
     },
     "execution_count": 20,
     "metadata": {},
     "output_type": "execute_result"
    }
   ],
   "source": [
    "eig_vectors.loc[np.abs(eig_vectors.loc[:,'PC2'])>=0.3,'PC2']"
   ]
  },
  {
   "cell_type": "markdown",
   "metadata": {},
   "source": [
    "# Nivell 3\n",
    "#### Exercici 3\n",
    "Continua amb el conjunt de dades de tema esportiu que t'agradi i normalitza les dades tenint en compte els outliers."
   ]
  },
  {
   "cell_type": "code",
   "execution_count": 21,
   "metadata": {},
   "outputs": [
    {
     "data": {
      "image/png": "[encoded data removed]",
      "text/plain": [
       "<Figure size 1440x720 with 1 Axes>"
      ]
     },
     "metadata": {
      "needs_background": "light"
     },
     "output_type": "display_data"
    }
   ],
   "source": [
    "#Vamos a mirar el boxplot para ver los outliers\n",
    "X_dummies.boxplot(figsize=(20,10),vert=False)\n",
    "plt.show()"
   ]
  },
  {
   "cell_type": "markdown",
   "metadata": {},
   "source": [
    "**Eliminación outliers**"
   ]
  },
  {
   "cell_type": "code",
   "execution_count": 22,
   "metadata": {},
   "outputs": [
    {
     "data": {
      "text/plain": [
       "FTHG     2.0\n",
       "FTAG     2.0\n",
       "HTHG     1.0\n",
       "HTAG     1.0\n",
       "HS       6.0\n",
       "AS       6.0\n",
       "HST      3.0\n",
       "AST      3.0\n",
       "HF       6.0\n",
       "AF       6.0\n",
       "HC       3.0\n",
       "AC       4.0\n",
       "HY       2.0\n",
       "AY       2.0\n",
       "HR       0.0\n",
       "AR       0.0\n",
       "HTR_D    1.0\n",
       "HTR_H    1.0\n",
       "dtype: float64"
      ]
     },
     "execution_count": 22,
     "metadata": {},
     "output_type": "execute_result"
    }
   ],
   "source": [
    "#Calculamos el IQR\n",
    "Q1 = X_dummies.quantile(0.25)\n",
    "Q3 = X_dummies.quantile(0.75)\n",
    "IQR = Q3 - Q1\n",
    "IQR"
   ]
  },
  {
   "cell_type": "code",
   "execution_count": 23,
   "metadata": {},
   "outputs": [
    {
     "data": {
      "text/plain": [
       "(222, 18)"
      ]
     },
     "execution_count": 23,
     "metadata": {},
     "output_type": "execute_result"
    }
   ],
   "source": [
    "#Eliminamos muestras con outliers\n",
    "X_out = X_dummies[~((X_dummies < (Q1 - 1.5 * IQR)) |(X_dummies > (Q3 + 1.5 * IQR))).any(axis=1)]\n",
    "X_out.shape"
   ]
  },
  {
   "cell_type": "code",
   "execution_count": 24,
   "metadata": {},
   "outputs": [],
   "source": [
    "#estandarizamos\n",
    "X_t=scaler.fit_transform(X_out) #devuelve un array NumPy, no un DataFrame"
   ]
  },
  {
   "cell_type": "code",
   "execution_count": 25,
   "metadata": {},
   "outputs": [
    {
     "data": {
      "image/png": "[encoded data removed]",
      "text/plain": [
       "<Figure size 1080x360 with 2 Axes>"
      ]
     },
     "metadata": {
      "needs_background": "light"
     },
     "output_type": "display_data"
    }
   ],
   "source": [
    "pca=PCA()\n",
    "pca.fit(X_t)\n",
    "\n",
    "plt.figure(figsize=(15,5))\n",
    "#V arianza explicada por cada componente\n",
    "plt.subplot(1,2,1)\n",
    "features=range(pca.n_components_)\n",
    "plt.bar(features,pca.explained_variance_) #autovalores\n",
    "plt.xlabel('PCA feature')\n",
    "plt.ylabel('variance')\n",
    "plt.title('Varianza por componente')\n",
    "plt.xticks(features)\n",
    "# % de varianza explicada acumulada por cada componente\n",
    "plt.subplot(1,2,2)\n",
    "plt.plot(features,pca.explained_variance_ratio_.cumsum()*100)\n",
    "plt.xlabel('PCA feature')\n",
    "plt.ylabel('% cumulative explained variance')\n",
    "plt.title('Varianza acumulada por componente')\n",
    "plt.xticks(features)\n",
    "plt.show()"
   ]
  },
  {
   "cell_type": "code",
   "execution_count": 26,
   "metadata": {},
   "outputs": [
    {
     "data": {
      "text/plain": [
       "array([0.1906523 , 0.35638329, 0.49501591, 0.6012561 , 0.66865875,\n",
       "       0.72962565, 0.78319133, 0.82413404, 0.86109748, 0.89548607,\n",
       "       0.92781665, 0.94996814, 0.97097812, 0.98679089, 0.99842544,\n",
       "       1.        , 1.        , 1.        ])"
      ]
     },
     "execution_count": 26,
     "metadata": {},
     "output_type": "execute_result"
    }
   ],
   "source": [
    "# la varianza acumulada por componente\n",
    "pca.explained_variance_ratio_.cumsum()"
   ]
  },
  {
   "cell_type": "markdown",
   "metadata": {},
   "source": [
    "Vemos una mejora al eliminar los outliers, a costa de eliminar muestras. Ahora con las 10 primeras componentes del PCA llegamos casi al 90% de la varianza del dataset. Antes teníamos 12 componentes."
   ]
  },
  {
   "cell_type": "markdown",
   "metadata": {},
   "source": [
    "**RobusScaler**\n",
    "\n",
    "Usaremos a continuación RobustScaler, normaliza eliminando la mediana que es menos sensible a los outliers y escala\n",
    "por el IQR"
   ]
  },
  {
   "cell_type": "code",
   "execution_count": 27,
   "metadata": {},
   "outputs": [],
   "source": [
    "from sklearn.preprocessing import RobustScaler"
   ]
  },
  {
   "cell_type": "code",
   "execution_count": 28,
   "metadata": {},
   "outputs": [],
   "source": [
    "transformer = RobustScaler().fit(X_dummies)\n",
    "X_t=transformer.transform(X_dummies)"
   ]
  },
  {
   "cell_type": "code",
   "execution_count": 29,
   "metadata": {},
   "outputs": [
    {
     "data": {
      "image/png": "[encoded data removed]",
      "text/plain": [
       "<Figure size 1440x720 with 1 Axes>"
      ]
     },
     "metadata": {
      "needs_background": "light"
     },
     "output_type": "display_data"
    }
   ],
   "source": [
    "plt.figure(figsize=(20,10))\n",
    "plt.boxplot(X_t,vert=False)\n",
    "plt.show()"
   ]
  },
  {
   "cell_type": "code",
   "execution_count": 30,
   "metadata": {},
   "outputs": [
    {
     "data": {
      "image/png": "[encoded data removed]",
      "text/plain": [
       "<Figure size 1080x360 with 2 Axes>"
      ]
     },
     "metadata": {
      "needs_background": "light"
     },
     "output_type": "display_data"
    }
   ],
   "source": [
    "pca=PCA()\n",
    "pca.fit(X_t)\n",
    "\n",
    "plt.figure(figsize=(15,5))\n",
    "#V arianza explicada por cada componente\n",
    "plt.subplot(1,2,1)\n",
    "features=range(pca.n_components_)\n",
    "plt.bar(features,pca.explained_variance_) #autovalores\n",
    "plt.xlabel('PCA feature')\n",
    "plt.ylabel('variance')\n",
    "plt.title('Varianza por componente')\n",
    "plt.xticks(features)\n",
    "# % de varianza explicada acumulada por cada componente\n",
    "plt.subplot(1,2,2)\n",
    "plt.plot(features,pca.explained_variance_ratio_.cumsum()*100)\n",
    "plt.xlabel('PCA feature')\n",
    "plt.ylabel('% cumulative explained variance')\n",
    "plt.title('Varianza acumulada por componente')\n",
    "plt.xticks(features)\n",
    "plt.show()"
   ]
  },
  {
   "cell_type": "code",
   "execution_count": 31,
   "metadata": {},
   "outputs": [
    {
     "data": {
      "text/plain": [
       "array([0.2168796 , 0.36749223, 0.49722901, 0.60407448, 0.67200055,\n",
       "       0.73375826, 0.78504643, 0.82615071, 0.86054856, 0.8914061 ,\n",
       "       0.91783436, 0.9376478 , 0.95332074, 0.96636298, 0.97835701,\n",
       "       0.98887602, 0.99794412, 1.        ])"
      ]
     },
     "execution_count": 31,
     "metadata": {},
     "output_type": "execute_result"
    }
   ],
   "source": [
    "# la varianza acumulada por componente\n",
    "pca.explained_variance_ratio_.cumsum()"
   ]
  },
  {
   "cell_type": "markdown",
   "metadata": {},
   "source": [
    "Tiene un comportamiento similar a la eliminación de outliers llegamos casi al 90% también con 10 componentes. Pero no hemos eliminado ninguna muestra.\n",
    "Comprobamos que los outliers afectan al PCA!!!"
   ]
  },
  {
   "cell_type": "code",
   "execution_count": null,
   "metadata": {},
   "outputs": [],
   "source": []
  }
 ],
 "metadata": {
  "kernelspec": {
   "display_name": "Python 3",
   "language": "python",
   "name": "python3"
  },
  "language_info": {
   "codemirror_mode": {
    "name": "ipython",
    "version": 3
   },
   "file_extension": ".py",
   "mimetype": "text/x-python",
   "name": "python",
   "nbconvert_exporter": "python",
   "pygments_lexer": "ipython3",
   "version": "3.7.4"
  },
  "latex_envs": {
   "LaTeX_envs_menu_present": true,
   "autoclose": false,
   "autocomplete": true,
   "bibliofile": "biblio.bib",
   "cite_by": "apalike",
   "current_citInitial": 1,
   "eqLabelWithNumbers": true,
   "eqNumInitial": 1,
   "hotkeys": {
    "equation": "Ctrl-E",
    "itemize": "Ctrl-I"
   },
   "labels_anchors": false,
   "latex_user_defs": false,
   "report_style_numbering": false,
   "user_envs_cfg": false
  },
  "varInspector": {
   "cols": {
    "lenName": 16,
    "lenType": 16,
    "lenVar": 40
   },
   "kernels_config": {
    "python": {
     "delete_cmd_postfix": "",
     "delete_cmd_prefix": "del ",
     "library": "var_list.py",
     "varRefreshCmd": "print(var_dic_list())"
    },
    "r": {
     "delete_cmd_postfix": ") ",
     "delete_cmd_prefix": "rm(",
     "library": "var_list.r",
     "varRefreshCmd": "cat(var_dic_list()) "
    }
   },
   "types_to_exclude": [
    "module",
    "function",
    "builtin_function_or_method",
    "instance",
    "_Feature"
   ],
   "window_display": false
  }
 },
 "nbformat": 4,
 "nbformat_minor": 2
}
